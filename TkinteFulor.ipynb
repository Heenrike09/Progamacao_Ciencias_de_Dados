{
 "cells": [
  {
   "cell_type": "code",
   "execution_count": 41,
   "id": "4f5a42ae",
   "metadata": {},
   "outputs": [],
   "source": [
    "from sklearn import datasets\n",
    "from sklearn import svm\n",
    "import pandas as pd\n",
    "import numpy as np\n",
    "import joblib"
   ]
  },
  {
   "cell_type": "code",
   "execution_count": 42,
   "id": "c48fd752",
   "metadata": {},
   "outputs": [],
   "source": [
    "import tkinter\n",
    "from PIL import ImageTk, Image"
   ]
  },
  {
   "cell_type": "code",
   "execution_count": 44,
   "id": "53098d89",
   "metadata": {},
   "outputs": [],
   "source": [
    "janela = tkinter.Tk()\n",
    "janela.geometry('800x600')\n",
    "\n",
    "imagem_setosa = ImageTk.PhotoImage(Image.open(\"flor-setosa.jpg\"))\n",
    "imagem_versicolor = ImageTk.PhotoImage(Image.open(\"flor-versicolor.jpg\"))\n",
    "Imagem_virginica = ImageTk.PhotoImage(Image.open(\"flor-virginica.jpg\"))\n",
    "\n",
    "\n",
    "rotulosepalaa = tkinter.Label(janela, text='Digite a altura da sepala da sua fúlor:')\n",
    "rotulosepalaa.pack()\n",
    "\n",
    "sepalaa = tkinter.Entry(janela)\n",
    "sepalaa.pack()\n",
    "\n",
    "rotulosepalal = tkinter.Label(janela, text='Digite a largura sepala da sua fúlor:')\n",
    "rotulosepalal.pack()\n",
    "\n",
    "sepalal = tkinter.Entry(janela)\n",
    "sepalal.pack()\n",
    "\n",
    "rotulopetalaa = tkinter.Label(janela, text='Digite a altura petala da sua fúlor:')\n",
    "rotulopetalaa.pack()\n",
    "\n",
    "petalaa = tkinter.Entry(janela)\n",
    "petalaa.pack()\n",
    "\n",
    "rotulopetalal = tkinter.Label(janela, text='Digite a largura petala da sua fúlor:')\n",
    "rotulopetalal.pack()\n",
    "\n",
    "petalal = tkinter.Entry(janela)\n",
    "petalal.pack()\n",
    "\n",
    "resultado = tkinter.Label(janela, text='')\n",
    "resultado.pack()\n",
    "\n",
    "def classificar():\n",
    "    sl = float(sepalal.get())\n",
    "    sa = float(sepalaa.get())\n",
    "    pl = float(petalal.get())\n",
    "    pa = float(petalaa.get())\n",
    "    dados = np.array([[sa,sl,pa,pl]])\n",
    "    botanico = joblib.load('model.plk')\n",
    "    classificacao = botanico.predict(dados)\n",
    "    if classificacao == 0:\n",
    "        resultado['text'] = 'Iris-Setosa'\n",
    "        resultado['image'] = imagem_setosa\n",
    "    elif classificacao == 1:\n",
    "        resultado ['text'] = 'Iris-Versicolour'\n",
    "        resultado['image'] = imagem_versicolor\n",
    "        \n",
    "    else:\n",
    "        resultado ['text'] = 'Iris-Virginia'\n",
    "        resultado['image'] = imagem_virginica\n",
    "        \n",
    "botao = tkinter.Button(janela, text='Que fúlor é essa?', command=classificar)\n",
    "botao.pack()\n",
    "\n",
    "janela.mainloop()"
   ]
  },
  {
   "cell_type": "code",
   "execution_count": null,
   "id": "d53f9263",
   "metadata": {},
   "outputs": [],
   "source": []
  }
 ],
 "metadata": {
  "kernelspec": {
   "display_name": "Python 3 (ipykernel)",
   "language": "python",
   "name": "python3"
  },
  "language_info": {
   "codemirror_mode": {
    "name": "ipython",
    "version": 3
   },
   "file_extension": ".py",
   "mimetype": "text/x-python",
   "name": "python",
   "nbconvert_exporter": "python",
   "pygments_lexer": "ipython3",
   "version": "3.9.13"
  }
 },
 "nbformat": 4,
 "nbformat_minor": 5
}
