{
 "cells": [
  {
   "cell_type": "code",
   "execution_count": 2,
   "id": "75bbb8c7",
   "metadata": {},
   "outputs": [],
   "source": [
    "import pandas as pd \n",
    "temperaturas = [37.5, 38.0, 37.8, 38.5, 37.0, 38.2, 38.8, 37.6, 37.0]\n",
    "serie = pd.Series(temperaturas)"
   ]
  },
  {
   "cell_type": "code",
   "execution_count": 9,
   "id": "bb6ceea8",
   "metadata": {},
   "outputs": [
    {
     "data": {
      "text/plain": [
       "37.82222222222222"
      ]
     },
     "execution_count": 9,
     "metadata": {},
     "output_type": "execute_result"
    }
   ],
   "source": [
    "# Codigo para gerar a media \n",
    "media = serie.mean()\n",
    "# Print\n",
    "media"
   ]
  },
  {
   "cell_type": "code",
   "execution_count": 10,
   "id": "317746ef",
   "metadata": {},
   "outputs": [
    {
     "data": {
      "text/plain": [
       "37.8"
      ]
     },
     "execution_count": 10,
     "metadata": {},
     "output_type": "execute_result"
    }
   ],
   "source": [
    "# Codigo para gerar a mediana \n",
    "mediana = serie.median()\n",
    "# Print\n",
    "mediana"
   ]
  },
  {
   "cell_type": "code",
   "execution_count": 11,
   "id": "88bf9ac4",
   "metadata": {},
   "outputs": [
    {
     "data": {
      "text/plain": [
       "0.386944444444444"
      ]
     },
     "execution_count": 11,
     "metadata": {},
     "output_type": "execute_result"
    }
   ],
   "source": [
    "# Codigo para gerar a variacia\n",
    "variancia = serie.var()\n",
    "# Print\n",
    "variancia"
   ]
  },
  {
   "cell_type": "code",
   "execution_count": 12,
   "id": "9f43145a",
   "metadata": {},
   "outputs": [
    {
     "data": {
      "text/plain": [
       "0.6220485868840504"
      ]
     },
     "execution_count": 12,
     "metadata": {},
     "output_type": "execute_result"
    }
   ],
   "source": [
    "# Codigo para descobrir o desvio padrão\n",
    "desvio = serie.std()\n",
    "# Print\n",
    "desvio"
   ]
  },
  {
   "cell_type": "code",
   "execution_count": 13,
   "id": "791dad78",
   "metadata": {},
   "outputs": [
    {
     "data": {
      "text/plain": [
       "0.6220485868840504"
      ]
     },
     "execution_count": 13,
     "metadata": {},
     "output_type": "execute_result"
    }
   ],
   "source": [
    "import pandas as pd \n",
    "temperaturas = [37.5, 38.0, 37.8, 38.5, 37.0, 38.2, 38.8, 37.6, 37.0]\n",
    "serie = pd.Series(temperaturas)\n",
    "\n",
    "# Codigo para gerar a media \n",
    "media = serie.mean()\n",
    "# Print\n",
    "media\n",
    "\n",
    "# Codigo para gerar a mediana \n",
    "mediana = serie.median()\n",
    "# Print\n",
    "mediana\n",
    "\n",
    "# Codigo para gerar a variacia\n",
    "variancia = serie.var()\n",
    "# Print\n",
    "variancia\n",
    "\n",
    "# Codigo para descobrir o desvio padrão\n",
    "desvio = serie.std()\n",
    "# Print\n",
    "desvio"
   ]
  },
  {
   "cell_type": "code",
   "execution_count": null,
   "id": "8d01d1a4",
   "metadata": {},
   "outputs": [],
   "source": []
  }
 ],
 "metadata": {
  "kernelspec": {
   "display_name": "Python 3 (ipykernel)",
   "language": "python",
   "name": "python3"
  },
  "language_info": {
   "codemirror_mode": {
    "name": "ipython",
    "version": 3
   },
   "file_extension": ".py",
   "mimetype": "text/x-python",
   "name": "python",
   "nbconvert_exporter": "python",
   "pygments_lexer": "ipython3",
   "version": "3.9.13"
  }
 },
 "nbformat": 4,
 "nbformat_minor": 5
}
