{
 "cells": [
  {
   "cell_type": "code",
   "execution_count": 3,
   "id": "1807d147",
   "metadata": {},
   "outputs": [],
   "source": [
    "import pandas as pd\n",
    "notas = [8.0, 9.0, 9.5, 6.0, 4.5, 4.0, 10.0, 10.0, 8.5, 8.0, 8.0, 8.0]\n",
    "serie = pd.Series(notas)"
   ]
  },
  {
   "cell_type": "code",
   "execution_count": 5,
   "id": "be44fc90",
   "metadata": {},
   "outputs": [
    {
     "data": {
      "text/plain": [
       "7.8"
      ]
     },
     "execution_count": 5,
     "metadata": {},
     "output_type": "execute_result"
    }
   ],
   "source": [
    "media = round(serie.mean(),1)\n",
    "# Print\n",
    "media"
   ]
  }
 ],
 "metadata": {
  "kernelspec": {
   "display_name": "Python 3 (ipykernel)",
   "language": "python",
   "name": "python3"
  },
  "language_info": {
   "codemirror_mode": {
    "name": "ipython",
    "version": 3
   },
   "file_extension": ".py",
   "mimetype": "text/x-python",
   "name": "python",
   "nbconvert_exporter": "python",
   "pygments_lexer": "ipython3",
   "version": "3.9.13"
  }
 },
 "nbformat": 4,
 "nbformat_minor": 5
}
