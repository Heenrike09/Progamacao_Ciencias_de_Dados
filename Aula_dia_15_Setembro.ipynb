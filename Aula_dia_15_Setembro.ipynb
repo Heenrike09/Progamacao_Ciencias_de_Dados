{
 "cells": [
  {
   "cell_type": "code",
   "execution_count": 1,
   "id": "3d603bdd",
   "metadata": {},
   "outputs": [],
   "source": [
    "import numpy as np\n",
    "import pandas as pd"
   ]
  },
  {
   "cell_type": "code",
   "execution_count": 7,
   "id": "7850fb88",
   "metadata": {},
   "outputs": [
    {
     "name": "stdout",
     "output_type": "stream",
     "text": [
      "[0 1 2 3 4 5 6 7 8 9]\n"
     ]
    }
   ],
   "source": [
    "dados = np.arange(10)\n",
    "print(dados)"
   ]
  },
  {
   "cell_type": "code",
   "execution_count": 6,
   "id": "3f72ddce",
   "metadata": {},
   "outputs": [
    {
     "name": "stdout",
     "output_type": "stream",
     "text": [
      "[[0 1 2 3 4]\n",
      " [5 6 7 8 9]]\n"
     ]
    }
   ],
   "source": [
    "dados = np.arange(10)\n",
    "dados = dados.reshape(2,5)\n",
    "print(dados)"
   ]
  },
  {
   "cell_type": "code",
   "execution_count": 8,
   "id": "d13f7218",
   "metadata": {},
   "outputs": [],
   "source": [
    "indice = ['l1','l2','l3','l4','l5','l6','l7','l8','l9','l10']"
   ]
  },
  {
   "cell_type": "code",
   "execution_count": 13,
   "id": "bb1fe0c7",
   "metadata": {},
   "outputs": [
    {
     "data": {
      "text/plain": [
       "l1     0\n",
       "l2     1\n",
       "l3     2\n",
       "l4     3\n",
       "l5     4\n",
       "l6     5\n",
       "l7     6\n",
       "l8     7\n",
       "l9     8\n",
       "l10    9\n",
       "dtype: int32"
      ]
     },
     "execution_count": 13,
     "metadata": {},
     "output_type": "execute_result"
    }
   ],
   "source": [
    "serie = pd.Series(dados, index=indice)\n",
    "#print\n",
    "serie"
   ]
  },
  {
   "cell_type": "code",
   "execution_count": 15,
   "id": "5ebd8486",
   "metadata": {},
   "outputs": [
    {
     "data": {
      "text/plain": [
       "l3    2\n",
       "l4    3\n",
       "l5    4\n",
       "dtype: int32"
      ]
     },
     "execution_count": 15,
     "metadata": {},
     "output_type": "execute_result"
    }
   ],
   "source": [
    "serie = pd.Series(dados, index = indice)\n",
    "serie['l3':'l5']"
   ]
  },
  {
   "cell_type": "code",
   "execution_count": 16,
   "id": "0333b2bb",
   "metadata": {},
   "outputs": [
    {
     "data": {
      "text/plain": [
       "array([[0, 1, 2, 3, 4],\n",
       "       [5, 6, 7, 8, 9]])"
      ]
     },
     "execution_count": 16,
     "metadata": {},
     "output_type": "execute_result"
    }
   ],
   "source": [
    "dados2 = dados.reshape(2,5)\n",
    "dados2"
   ]
  },
  {
   "cell_type": "code",
   "execution_count": 19,
   "id": "bd03ed03",
   "metadata": {},
   "outputs": [
    {
     "data": {
      "text/html": [
       "<div>\n",
       "<style scoped>\n",
       "    .dataframe tbody tr th:only-of-type {\n",
       "        vertical-align: middle;\n",
       "    }\n",
       "\n",
       "    .dataframe tbody tr th {\n",
       "        vertical-align: top;\n",
       "    }\n",
       "\n",
       "    .dataframe thead th {\n",
       "        text-align: right;\n",
       "    }\n",
       "</style>\n",
       "<table border=\"1\" class=\"dataframe\">\n",
       "  <thead>\n",
       "    <tr style=\"text-align: right;\">\n",
       "      <th></th>\n",
       "      <th>0</th>\n",
       "      <th>1</th>\n",
       "      <th>2</th>\n",
       "      <th>3</th>\n",
       "      <th>4</th>\n",
       "    </tr>\n",
       "  </thead>\n",
       "  <tbody>\n",
       "    <tr>\n",
       "      <th>0</th>\n",
       "      <td>0</td>\n",
       "      <td>1</td>\n",
       "      <td>2</td>\n",
       "      <td>3</td>\n",
       "      <td>4</td>\n",
       "    </tr>\n",
       "    <tr>\n",
       "      <th>1</th>\n",
       "      <td>5</td>\n",
       "      <td>6</td>\n",
       "      <td>7</td>\n",
       "      <td>8</td>\n",
       "      <td>9</td>\n",
       "    </tr>\n",
       "  </tbody>\n",
       "</table>\n",
       "</div>"
      ],
      "text/plain": [
       "   0  1  2  3  4\n",
       "0  0  1  2  3  4\n",
       "1  5  6  7  8  9"
      ]
     },
     "execution_count": 19,
     "metadata": {},
     "output_type": "execute_result"
    }
   ],
   "source": [
    "tabela = pd.DataFrame(dados2)\n",
    "tabela"
   ]
  },
  {
   "cell_type": "code",
   "execution_count": 20,
   "id": "1588179b",
   "metadata": {},
   "outputs": [
    {
     "data": {
      "text/html": [
       "<div>\n",
       "<style scoped>\n",
       "    .dataframe tbody tr th:only-of-type {\n",
       "        vertical-align: middle;\n",
       "    }\n",
       "\n",
       "    .dataframe tbody tr th {\n",
       "        vertical-align: top;\n",
       "    }\n",
       "\n",
       "    .dataframe thead th {\n",
       "        text-align: right;\n",
       "    }\n",
       "</style>\n",
       "<table border=\"1\" class=\"dataframe\">\n",
       "  <thead>\n",
       "    <tr style=\"text-align: right;\">\n",
       "      <th></th>\n",
       "      <th>c1</th>\n",
       "      <th>c2</th>\n",
       "      <th>c3</th>\n",
       "      <th>c4</th>\n",
       "      <th>c5</th>\n",
       "    </tr>\n",
       "  </thead>\n",
       "  <tbody>\n",
       "    <tr>\n",
       "      <th>l1</th>\n",
       "      <td>0</td>\n",
       "      <td>1</td>\n",
       "      <td>2</td>\n",
       "      <td>3</td>\n",
       "      <td>4</td>\n",
       "    </tr>\n",
       "    <tr>\n",
       "      <th>l2</th>\n",
       "      <td>5</td>\n",
       "      <td>6</td>\n",
       "      <td>7</td>\n",
       "      <td>8</td>\n",
       "      <td>9</td>\n",
       "    </tr>\n",
       "  </tbody>\n",
       "</table>\n",
       "</div>"
      ],
      "text/plain": [
       "    c1  c2  c3  c4  c5\n",
       "l1   0   1   2   3   4\n",
       "l2   5   6   7   8   9"
      ]
     },
     "execution_count": 20,
     "metadata": {},
     "output_type": "execute_result"
    }
   ],
   "source": [
    "tabela = pd.DataFrame(dados2, index =['l1', 'l2'], columns =['c1', 'c2', 'c3', 'c4', 'c5'] )\n",
    "tabela"
   ]
  },
  {
   "cell_type": "code",
   "execution_count": 21,
   "id": "a4491501",
   "metadata": {},
   "outputs": [
    {
     "data": {
      "text/plain": [
       "array([[0.90197326, 0.10652614, 0.2017004 , 0.53163764, 0.01439646],\n",
       "       [0.45571635, 0.02309538, 0.48687194, 0.87750977, 0.30854637],\n",
       "       [0.23912684, 0.91852491, 0.77454813, 0.89054794, 0.39927764],\n",
       "       [0.06317983, 0.1969264 , 0.92971246, 0.44385603, 0.66110949],\n",
       "       [0.75921833, 0.55594348, 0.40169799, 0.14064612, 0.50155683]])"
      ]
     },
     "execution_count": 21,
     "metadata": {},
     "output_type": "execute_result"
    }
   ],
   "source": [
    "np.random.seed(None)\n",
    "aleatorios = np.random.rand(25).reshape(5,5)\n",
    "aleatorios"
   ]
  },
  {
   "cell_type": "code",
   "execution_count": 25,
   "id": "b947fa97",
   "metadata": {},
   "outputs": [],
   "source": [
    "linhas = ['l1','l2','l3','l4','l5']\n",
    "colunas = ['c1', 'c2', 'c3', 'c4', 'c5'] "
   ]
  },
  {
   "cell_type": "code",
   "execution_count": 27,
   "id": "345d8ad8",
   "metadata": {},
   "outputs": [
    {
     "data": {
      "text/html": [
       "<div>\n",
       "<style scoped>\n",
       "    .dataframe tbody tr th:only-of-type {\n",
       "        vertical-align: middle;\n",
       "    }\n",
       "\n",
       "    .dataframe tbody tr th {\n",
       "        vertical-align: top;\n",
       "    }\n",
       "\n",
       "    .dataframe thead th {\n",
       "        text-align: right;\n",
       "    }\n",
       "</style>\n",
       "<table border=\"1\" class=\"dataframe\">\n",
       "  <thead>\n",
       "    <tr style=\"text-align: right;\">\n",
       "      <th></th>\n",
       "      <th>c1</th>\n",
       "      <th>c2</th>\n",
       "      <th>c3</th>\n",
       "      <th>c4</th>\n",
       "      <th>c5</th>\n",
       "    </tr>\n",
       "  </thead>\n",
       "  <tbody>\n",
       "    <tr>\n",
       "      <th>l1</th>\n",
       "      <td>0.936791</td>\n",
       "      <td>0.626032</td>\n",
       "      <td>0.607110</td>\n",
       "      <td>0.090558</td>\n",
       "      <td>0.685163</td>\n",
       "    </tr>\n",
       "    <tr>\n",
       "      <th>l2</th>\n",
       "      <td>0.139597</td>\n",
       "      <td>0.824796</td>\n",
       "      <td>0.121497</td>\n",
       "      <td>0.474384</td>\n",
       "      <td>0.889675</td>\n",
       "    </tr>\n",
       "    <tr>\n",
       "      <th>l3</th>\n",
       "      <td>0.440789</td>\n",
       "      <td>0.631421</td>\n",
       "      <td>0.272920</td>\n",
       "      <td>0.198866</td>\n",
       "      <td>0.328780</td>\n",
       "    </tr>\n",
       "    <tr>\n",
       "      <th>l4</th>\n",
       "      <td>0.550482</td>\n",
       "      <td>0.038542</td>\n",
       "      <td>0.775236</td>\n",
       "      <td>0.127873</td>\n",
       "      <td>0.387252</td>\n",
       "    </tr>\n",
       "    <tr>\n",
       "      <th>l5</th>\n",
       "      <td>0.951907</td>\n",
       "      <td>0.748813</td>\n",
       "      <td>0.883801</td>\n",
       "      <td>0.166613</td>\n",
       "      <td>0.945172</td>\n",
       "    </tr>\n",
       "  </tbody>\n",
       "</table>\n",
       "</div>"
      ],
      "text/plain": [
       "          c1        c2        c3        c4        c5\n",
       "l1  0.936791  0.626032  0.607110  0.090558  0.685163\n",
       "l2  0.139597  0.824796  0.121497  0.474384  0.889675\n",
       "l3  0.440789  0.631421  0.272920  0.198866  0.328780\n",
       "l4  0.550482  0.038542  0.775236  0.127873  0.387252\n",
       "l5  0.951907  0.748813  0.883801  0.166613  0.945172"
      ]
     },
     "execution_count": 27,
     "metadata": {},
     "output_type": "execute_result"
    }
   ],
   "source": [
    "tabela = pd.DataFrame(aleatorios,index=linhas, columns=colunas)\n",
    "tabela"
   ]
  },
  {
   "cell_type": "code",
   "execution_count": 28,
   "id": "04f975be",
   "metadata": {},
   "outputs": [
    {
     "name": "stdout",
     "output_type": "stream",
     "text": [
      "9\n"
     ]
    }
   ],
   "source": [
    "numeros = [1, 2, 4, 9]\n",
    "for numero in numeros:\n",
    "    if numero > 5:\n",
    "        print(numero)"
   ]
  },
  {
   "cell_type": "code",
   "execution_count": 29,
   "id": "b0dbe67e",
   "metadata": {},
   "outputs": [
    {
     "data": {
      "text/html": [
       "<div>\n",
       "<style scoped>\n",
       "    .dataframe tbody tr th:only-of-type {\n",
       "        vertical-align: middle;\n",
       "    }\n",
       "\n",
       "    .dataframe tbody tr th {\n",
       "        vertical-align: top;\n",
       "    }\n",
       "\n",
       "    .dataframe thead th {\n",
       "        text-align: right;\n",
       "    }\n",
       "</style>\n",
       "<table border=\"1\" class=\"dataframe\">\n",
       "  <thead>\n",
       "    <tr style=\"text-align: right;\">\n",
       "      <th></th>\n",
       "      <th>c1</th>\n",
       "      <th>c2</th>\n",
       "      <th>c3</th>\n",
       "      <th>c4</th>\n",
       "      <th>c5</th>\n",
       "    </tr>\n",
       "  </thead>\n",
       "  <tbody>\n",
       "    <tr>\n",
       "      <th>l1</th>\n",
       "      <td>False</td>\n",
       "      <td>False</td>\n",
       "      <td>False</td>\n",
       "      <td>True</td>\n",
       "      <td>False</td>\n",
       "    </tr>\n",
       "    <tr>\n",
       "      <th>l2</th>\n",
       "      <td>True</td>\n",
       "      <td>False</td>\n",
       "      <td>True</td>\n",
       "      <td>False</td>\n",
       "      <td>False</td>\n",
       "    </tr>\n",
       "    <tr>\n",
       "      <th>l3</th>\n",
       "      <td>False</td>\n",
       "      <td>False</td>\n",
       "      <td>True</td>\n",
       "      <td>True</td>\n",
       "      <td>False</td>\n",
       "    </tr>\n",
       "    <tr>\n",
       "      <th>l4</th>\n",
       "      <td>False</td>\n",
       "      <td>True</td>\n",
       "      <td>False</td>\n",
       "      <td>True</td>\n",
       "      <td>False</td>\n",
       "    </tr>\n",
       "    <tr>\n",
       "      <th>l5</th>\n",
       "      <td>False</td>\n",
       "      <td>False</td>\n",
       "      <td>False</td>\n",
       "      <td>True</td>\n",
       "      <td>False</td>\n",
       "    </tr>\n",
       "  </tbody>\n",
       "</table>\n",
       "</div>"
      ],
      "text/plain": [
       "       c1     c2     c3     c4     c5\n",
       "l1  False  False  False   True  False\n",
       "l2   True  False   True  False  False\n",
       "l3  False  False   True   True  False\n",
       "l4  False   True  False   True  False\n",
       "l5  False  False  False   True  False"
      ]
     },
     "execution_count": 29,
     "metadata": {},
     "output_type": "execute_result"
    }
   ],
   "source": [
    "tabela  < 0.3"
   ]
  },
  {
   "cell_type": "code",
   "execution_count": 31,
   "id": "6483b4bf",
   "metadata": {},
   "outputs": [
    {
     "data": {
      "text/html": [
       "<div>\n",
       "<style scoped>\n",
       "    .dataframe tbody tr th:only-of-type {\n",
       "        vertical-align: middle;\n",
       "    }\n",
       "\n",
       "    .dataframe tbody tr th {\n",
       "        vertical-align: top;\n",
       "    }\n",
       "\n",
       "    .dataframe thead th {\n",
       "        text-align: right;\n",
       "    }\n",
       "</style>\n",
       "<table border=\"1\" class=\"dataframe\">\n",
       "  <thead>\n",
       "    <tr style=\"text-align: right;\">\n",
       "      <th></th>\n",
       "      <th>c1</th>\n",
       "      <th>c2</th>\n",
       "      <th>c3</th>\n",
       "      <th>c4</th>\n",
       "      <th>c5</th>\n",
       "    </tr>\n",
       "  </thead>\n",
       "  <tbody>\n",
       "    <tr>\n",
       "      <th>l1</th>\n",
       "      <td>NaN</td>\n",
       "      <td>NaN</td>\n",
       "      <td>NaN</td>\n",
       "      <td>0.090558</td>\n",
       "      <td>NaN</td>\n",
       "    </tr>\n",
       "    <tr>\n",
       "      <th>l2</th>\n",
       "      <td>0.139597</td>\n",
       "      <td>NaN</td>\n",
       "      <td>0.121497</td>\n",
       "      <td>NaN</td>\n",
       "      <td>NaN</td>\n",
       "    </tr>\n",
       "    <tr>\n",
       "      <th>l3</th>\n",
       "      <td>NaN</td>\n",
       "      <td>NaN</td>\n",
       "      <td>0.272920</td>\n",
       "      <td>0.198866</td>\n",
       "      <td>NaN</td>\n",
       "    </tr>\n",
       "    <tr>\n",
       "      <th>l4</th>\n",
       "      <td>NaN</td>\n",
       "      <td>0.038542</td>\n",
       "      <td>NaN</td>\n",
       "      <td>0.127873</td>\n",
       "      <td>NaN</td>\n",
       "    </tr>\n",
       "    <tr>\n",
       "      <th>l5</th>\n",
       "      <td>NaN</td>\n",
       "      <td>NaN</td>\n",
       "      <td>NaN</td>\n",
       "      <td>0.166613</td>\n",
       "      <td>NaN</td>\n",
       "    </tr>\n",
       "  </tbody>\n",
       "</table>\n",
       "</div>"
      ],
      "text/plain": [
       "          c1        c2        c3        c4  c5\n",
       "l1       NaN       NaN       NaN  0.090558 NaN\n",
       "l2  0.139597       NaN  0.121497       NaN NaN\n",
       "l3       NaN       NaN  0.272920  0.198866 NaN\n",
       "l4       NaN  0.038542       NaN  0.127873 NaN\n",
       "l5       NaN       NaN       NaN  0.166613 NaN"
      ]
     },
     "execution_count": 31,
     "metadata": {},
     "output_type": "execute_result"
    }
   ],
   "source": [
    "filtro = tabela < 0.3\n",
    "tabela2 = tabela[filtro]\n",
    "tabela2"
   ]
  },
  {
   "cell_type": "code",
   "execution_count": 35,
   "id": "3e4bb860",
   "metadata": {},
   "outputs": [
    {
     "data": {
      "text/html": [
       "<div>\n",
       "<style scoped>\n",
       "    .dataframe tbody tr th:only-of-type {\n",
       "        vertical-align: middle;\n",
       "    }\n",
       "\n",
       "    .dataframe tbody tr th {\n",
       "        vertical-align: top;\n",
       "    }\n",
       "\n",
       "    .dataframe thead th {\n",
       "        text-align: right;\n",
       "    }\n",
       "</style>\n",
       "<table border=\"1\" class=\"dataframe\">\n",
       "  <thead>\n",
       "    <tr style=\"text-align: right;\">\n",
       "      <th></th>\n",
       "      <th>c1</th>\n",
       "      <th>c2</th>\n",
       "      <th>c3</th>\n",
       "      <th>c4</th>\n",
       "      <th>c5</th>\n",
       "    </tr>\n",
       "  </thead>\n",
       "  <tbody>\n",
       "    <tr>\n",
       "      <th>l1</th>\n",
       "      <td>NaN</td>\n",
       "      <td>NaN</td>\n",
       "      <td>NaN</td>\n",
       "      <td>0.090558</td>\n",
       "      <td>NaN</td>\n",
       "    </tr>\n",
       "    <tr>\n",
       "      <th>l2</th>\n",
       "      <td>-1.0</td>\n",
       "      <td>NaN</td>\n",
       "      <td>0.121497</td>\n",
       "      <td>NaN</td>\n",
       "      <td>NaN</td>\n",
       "    </tr>\n",
       "    <tr>\n",
       "      <th>l3</th>\n",
       "      <td>NaN</td>\n",
       "      <td>NaN</td>\n",
       "      <td>0.272920</td>\n",
       "      <td>0.198866</td>\n",
       "      <td>NaN</td>\n",
       "    </tr>\n",
       "    <tr>\n",
       "      <th>l4</th>\n",
       "      <td>NaN</td>\n",
       "      <td>0.038542</td>\n",
       "      <td>NaN</td>\n",
       "      <td>0.127873</td>\n",
       "      <td>NaN</td>\n",
       "    </tr>\n",
       "    <tr>\n",
       "      <th>l5</th>\n",
       "      <td>NaN</td>\n",
       "      <td>NaN</td>\n",
       "      <td>NaN</td>\n",
       "      <td>0.166613</td>\n",
       "      <td>NaN</td>\n",
       "    </tr>\n",
       "  </tbody>\n",
       "</table>\n",
       "</div>"
      ],
      "text/plain": [
       "     c1        c2        c3        c4  c5\n",
       "l1  NaN       NaN       NaN  0.090558 NaN\n",
       "l2 -1.0       NaN  0.121497       NaN NaN\n",
       "l3  NaN       NaN  0.272920  0.198866 NaN\n",
       "l4  NaN  0.038542       NaN  0.127873 NaN\n",
       "l5  NaN       NaN       NaN  0.166613 NaN"
      ]
     },
     "execution_count": 35,
     "metadata": {},
     "output_type": "execute_result"
    }
   ],
   "source": [
    "# substituir número da tabela \n",
    "filtro = tabela < 0.3\n",
    "tabela2 = tabela[filtro]\n",
    "tabela2['c1']['l2'] = -1\n",
    "tabela2"
   ]
  },
  {
   "cell_type": "code",
   "execution_count": 40,
   "id": "ed32ef7e",
   "metadata": {},
   "outputs": [
    {
     "data": {
      "text/html": [
       "<div>\n",
       "<style scoped>\n",
       "    .dataframe tbody tr th:only-of-type {\n",
       "        vertical-align: middle;\n",
       "    }\n",
       "\n",
       "    .dataframe tbody tr th {\n",
       "        vertical-align: top;\n",
       "    }\n",
       "\n",
       "    .dataframe thead th {\n",
       "        text-align: right;\n",
       "    }\n",
       "</style>\n",
       "<table border=\"1\" class=\"dataframe\">\n",
       "  <thead>\n",
       "    <tr style=\"text-align: right;\">\n",
       "      <th></th>\n",
       "      <th>c1</th>\n",
       "      <th>c2</th>\n",
       "      <th>c3</th>\n",
       "      <th>c4</th>\n",
       "      <th>c5</th>\n",
       "    </tr>\n",
       "  </thead>\n",
       "  <tbody>\n",
       "    <tr>\n",
       "      <th>l1</th>\n",
       "      <td>NaN</td>\n",
       "      <td>NaN</td>\n",
       "      <td>NaN</td>\n",
       "      <td>0.090558</td>\n",
       "      <td>NaN</td>\n",
       "    </tr>\n",
       "    <tr>\n",
       "      <th>l2</th>\n",
       "      <td>-1.0</td>\n",
       "      <td>NaN</td>\n",
       "      <td>0.121497</td>\n",
       "      <td>NaN</td>\n",
       "      <td>NaN</td>\n",
       "    </tr>\n",
       "    <tr>\n",
       "      <th>l3</th>\n",
       "      <td>NaN</td>\n",
       "      <td>NaN</td>\n",
       "      <td>0.272920</td>\n",
       "      <td>0.198866</td>\n",
       "      <td>NaN</td>\n",
       "    </tr>\n",
       "    <tr>\n",
       "      <th>l4</th>\n",
       "      <td>NaN</td>\n",
       "      <td>0.038542</td>\n",
       "      <td>NaN</td>\n",
       "      <td>0.127873</td>\n",
       "      <td>NaN</td>\n",
       "    </tr>\n",
       "    <tr>\n",
       "      <th>l5</th>\n",
       "      <td>NaN</td>\n",
       "      <td>NaN</td>\n",
       "      <td>NaN</td>\n",
       "      <td>0.166613</td>\n",
       "      <td>NaN</td>\n",
       "    </tr>\n",
       "  </tbody>\n",
       "</table>\n",
       "</div>"
      ],
      "text/plain": [
       "     c1        c2        c3        c4  c5\n",
       "l1  NaN       NaN       NaN  0.090558 NaN\n",
       "l2 -1.0       NaN  0.121497       NaN NaN\n",
       "l3  NaN       NaN  0.272920  0.198866 NaN\n",
       "l4  NaN  0.038542       NaN  0.127873 NaN\n",
       "l5  NaN       NaN       NaN  0.166613 NaN"
      ]
     },
     "execution_count": 40,
     "metadata": {},
     "output_type": "execute_result"
    }
   ],
   "source": [
    "filtro = tabela < 0.3\n",
    "tabela2 = tabela[filtro]\n",
    "tabela2['c1']['l2'] = -1\n",
    "tabela2"
   ]
  },
  {
   "cell_type": "code",
   "execution_count": 41,
   "id": "867d7044",
   "metadata": {},
   "outputs": [
    {
     "data": {
      "text/html": [
       "<div>\n",
       "<style scoped>\n",
       "    .dataframe tbody tr th:only-of-type {\n",
       "        vertical-align: middle;\n",
       "    }\n",
       "\n",
       "    .dataframe tbody tr th {\n",
       "        vertical-align: top;\n",
       "    }\n",
       "\n",
       "    .dataframe thead th {\n",
       "        text-align: right;\n",
       "    }\n",
       "</style>\n",
       "<table border=\"1\" class=\"dataframe\">\n",
       "  <thead>\n",
       "    <tr style=\"text-align: right;\">\n",
       "      <th></th>\n",
       "      <th>c1</th>\n",
       "      <th>c2</th>\n",
       "      <th>c3</th>\n",
       "      <th>c4</th>\n",
       "      <th>c5</th>\n",
       "    </tr>\n",
       "  </thead>\n",
       "  <tbody>\n",
       "    <tr>\n",
       "      <th>l1</th>\n",
       "      <td>True</td>\n",
       "      <td>True</td>\n",
       "      <td>True</td>\n",
       "      <td>False</td>\n",
       "      <td>True</td>\n",
       "    </tr>\n",
       "    <tr>\n",
       "      <th>l2</th>\n",
       "      <td>False</td>\n",
       "      <td>True</td>\n",
       "      <td>False</td>\n",
       "      <td>True</td>\n",
       "      <td>True</td>\n",
       "    </tr>\n",
       "    <tr>\n",
       "      <th>l3</th>\n",
       "      <td>True</td>\n",
       "      <td>True</td>\n",
       "      <td>False</td>\n",
       "      <td>False</td>\n",
       "      <td>True</td>\n",
       "    </tr>\n",
       "    <tr>\n",
       "      <th>l4</th>\n",
       "      <td>True</td>\n",
       "      <td>False</td>\n",
       "      <td>True</td>\n",
       "      <td>False</td>\n",
       "      <td>True</td>\n",
       "    </tr>\n",
       "    <tr>\n",
       "      <th>l5</th>\n",
       "      <td>True</td>\n",
       "      <td>True</td>\n",
       "      <td>True</td>\n",
       "      <td>False</td>\n",
       "      <td>True</td>\n",
       "    </tr>\n",
       "  </tbody>\n",
       "</table>\n",
       "</div>"
      ],
      "text/plain": [
       "       c1     c2     c3     c4    c5\n",
       "l1   True   True   True  False  True\n",
       "l2  False   True  False   True  True\n",
       "l3   True   True  False  False  True\n",
       "l4   True  False   True  False  True\n",
       "l5   True   True   True  False  True"
      ]
     },
     "execution_count": 41,
     "metadata": {},
     "output_type": "execute_result"
    }
   ],
   "source": [
    "tabela2.isnull()"
   ]
  },
  {
   "cell_type": "code",
   "execution_count": 42,
   "id": "9a1c819b",
   "metadata": {},
   "outputs": [
    {
     "data": {
      "text/plain": [
       "c1    4\n",
       "c2    4\n",
       "c3    3\n",
       "c4    1\n",
       "c5    5\n",
       "dtype: int64"
      ]
     },
     "execution_count": 42,
     "metadata": {},
     "output_type": "execute_result"
    }
   ],
   "source": [
    "filtro = tabela < 0.3\n",
    "tabela2 = tabela[filtro]\n",
    "tabela2['c1']['l2'] = -1\n",
    "tabela2.isna().sum()"
   ]
  },
  {
   "cell_type": "code",
   "execution_count": 46,
   "id": "1f3d5fbc",
   "metadata": {},
   "outputs": [
    {
     "data": {
      "text/plain": [
       "17"
      ]
     },
     "execution_count": 46,
     "metadata": {},
     "output_type": "execute_result"
    }
   ],
   "source": [
    "filtro = tabela < 0.3\n",
    "tabela2 = tabela[filtro]\n",
    "tabela2['c1']['l2'] = -1\n",
    "totaisnan = tabela2.isna().sum()\n",
    "totaisnan.sum()"
   ]
  },
  {
   "cell_type": "code",
   "execution_count": 54,
   "id": "4018b321",
   "metadata": {},
   "outputs": [
    {
     "name": "stdout",
     "output_type": "stream",
     "text": [
      "      Python  Java  Banco de Dados\n",
      "Theo     9.0   7.5            10.0\n"
     ]
    }
   ],
   "source": [
    "# Criando as linhas e colunas com alunos,notas e disciplinas\n",
    "alunos = ['Thyago', 'Theo', 'Sophia']\n",
    "disciplinas = ['Python', 'Java', 'Banco de Dados']\n",
    "nan = np.nan\n",
    "notas = [8.0 ,7.0 , nan, 9.0, 7.5, 10.0, 7.0, nan, 8.0]\n",
    "notas = np.array(notas)\n",
    "notas = notas.reshape(3,3)\n",
    "df = pd.DataFrame(notas, index=alunos, columns=disciplinas)\n",
    "\n",
    "\n",
    "# Susbistituição das notas nulas  de Java\n",
    "java = df['Java']\n",
    "java = java.fillna(java.mean())\n",
    "df['Java'] = java\n",
    "df\n",
    "\n",
    "# Susbistituição das notas nulas  de Banco de Dados\n",
    "bd = df['Banco de Dados']\n",
    "bd = bd.fillna(bd.mean())\n",
    "df['Banco de Dados'] = bd\n",
    "df\n",
    "\n",
    "# Criando o filtro de que so mostrar o aluno acima da media em Python\n",
    "python = df['Python']\n",
    "filtro = python > python.mean()\n",
    "print(df[filtro])"
   ]
  },
  {
   "cell_type": "code",
   "execution_count": null,
   "id": "d608cda3",
   "metadata": {},
   "outputs": [],
   "source": []
  }
 ],
 "metadata": {
  "kernelspec": {
   "display_name": "Python 3 (ipykernel)",
   "language": "python",
   "name": "python3"
  },
  "language_info": {
   "codemirror_mode": {
    "name": "ipython",
    "version": 3
   },
   "file_extension": ".py",
   "mimetype": "text/x-python",
   "name": "python",
   "nbconvert_exporter": "python",
   "pygments_lexer": "ipython3",
   "version": "3.9.13"
  }
 },
 "nbformat": 4,
 "nbformat_minor": 5
}
